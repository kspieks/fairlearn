{
 "cells": [
  {
   "cell_type": "code",
   "execution_count": 1,
   "id": "1c5e0234",
   "metadata": {},
   "outputs": [
    {
     "data": {
      "text/html": [
       "<script>\n",
       "code_show=true; \n",
       "function code_toggle() {\n",
       " if (code_show){\n",
       " $('div.input').hide();\n",
       " } else {\n",
       " $('div.input').show();\n",
       " }\n",
       " code_show = !code_show\n",
       "} \n",
       "$( document ).ready(code_toggle);\n",
       "</script>\n",
       "<form action=\"javascript:code_toggle()\"><input type=\"submit\" value=\"Click here to toggle on/off the raw code.\"></form>"
      ],
      "text/plain": [
       "<IPython.core.display.HTML object>"
      ]
     },
     "execution_count": 1,
     "metadata": {},
     "output_type": "execute_result"
    }
   ],
   "source": [
    "from IPython.display import HTML\n",
    "\n",
    "HTML('''<script>\n",
    "code_show=true; \n",
    "function code_toggle() {\n",
    " if (code_show){\n",
    " $('div.input').hide();\n",
    " } else {\n",
    " $('div.input').show();\n",
    " }\n",
    " code_show = !code_show\n",
    "} \n",
    "$( document ).ready(code_toggle);\n",
    "</script>\n",
    "<form action=\"javascript:code_toggle()\"><input type=\"submit\" value=\"Click here to toggle on/off the raw code.\"></form>''')"
   ]
  },
  {
   "cell_type": "code",
   "execution_count": 2,
   "id": "6407c2fa",
   "metadata": {},
   "outputs": [
    {
     "data": {
      "text/html": [
       "<style>.container { width:100% !important; }</style>"
      ],
      "text/plain": [
       "<IPython.core.display.HTML object>"
      ]
     },
     "metadata": {},
     "output_type": "display_data"
    }
   ],
   "source": [
    "from IPython.core.display import display, HTML\n",
    "display(HTML(\"<style>.container { width:100% !important; }</style>\"))"
   ]
  },
  {
   "cell_type": "code",
   "execution_count": 3,
   "id": "e34de6b6",
   "metadata": {},
   "outputs": [],
   "source": [
    "import os\n",
    "import time\n",
    "\n",
    "import matplotlib.pyplot as plt\n",
    "import matplotlib as mpl\n",
    "import numpy as np\n",
    "import pandas as pd\n",
    "import seaborn as sns\n",
    "sns.set_style('whitegrid', {'axes.edgecolor': '.2'})\n",
    "sns.set_context('notebook', font_scale=1.4)\n",
    "\n",
    "from fairlearn.datasets import fetch_acs_income"
   ]
  },
  {
   "cell_type": "markdown",
   "id": "2ed3d964",
   "metadata": {},
   "source": [
    "# Get Data"
   ]
  },
  {
   "cell_type": "code",
   "execution_count": 4,
   "id": "76a520f2",
   "metadata": {
    "scrolled": false
   },
   "outputs": [],
   "source": [
    "# output = fetch_acs_income(cache=True, data_home=None,\n",
    "#                           as_frame=True, return_X_y=True,\n",
    "#                           states=None,  # fetch all states\n",
    "#                          )\n",
    "# X, y = output\n",
    "# X['PINCP'] = y\n",
    "# X"
   ]
  },
  {
   "cell_type": "code",
   "execution_count": 5,
   "id": "32abf734",
   "metadata": {},
   "outputs": [],
   "source": [
    "# X.to_csv('ACSIncome.csv', index=False)"
   ]
  },
  {
   "cell_type": "code",
   "execution_count": 6,
   "id": "78ca1f42",
   "metadata": {},
   "outputs": [
    {
     "data": {
      "text/html": [
       "<div>\n",
       "<style scoped>\n",
       "    .dataframe tbody tr th:only-of-type {\n",
       "        vertical-align: middle;\n",
       "    }\n",
       "\n",
       "    .dataframe tbody tr th {\n",
       "        vertical-align: top;\n",
       "    }\n",
       "\n",
       "    .dataframe thead th {\n",
       "        text-align: right;\n",
       "    }\n",
       "</style>\n",
       "<table border=\"1\" class=\"dataframe\">\n",
       "  <thead>\n",
       "    <tr style=\"text-align: right;\">\n",
       "      <th></th>\n",
       "      <th>AGEP</th>\n",
       "      <th>COW</th>\n",
       "      <th>SCHL</th>\n",
       "      <th>MAR</th>\n",
       "      <th>OCCP</th>\n",
       "      <th>POBP</th>\n",
       "      <th>RELP</th>\n",
       "      <th>WKHP</th>\n",
       "      <th>SEX</th>\n",
       "      <th>RAC1P</th>\n",
       "      <th>PINCP</th>\n",
       "    </tr>\n",
       "  </thead>\n",
       "  <tbody>\n",
       "    <tr>\n",
       "      <th>0</th>\n",
       "      <td>18.0</td>\n",
       "      <td>1.0</td>\n",
       "      <td>18.0</td>\n",
       "      <td>5.0</td>\n",
       "      <td>4720.0</td>\n",
       "      <td>13.0</td>\n",
       "      <td>17.0</td>\n",
       "      <td>21.0</td>\n",
       "      <td>Female</td>\n",
       "      <td>2.0</td>\n",
       "      <td>1600.0</td>\n",
       "    </tr>\n",
       "    <tr>\n",
       "      <th>1</th>\n",
       "      <td>53.0</td>\n",
       "      <td>5.0</td>\n",
       "      <td>17.0</td>\n",
       "      <td>5.0</td>\n",
       "      <td>3605.0</td>\n",
       "      <td>18.0</td>\n",
       "      <td>16.0</td>\n",
       "      <td>40.0</td>\n",
       "      <td>Male</td>\n",
       "      <td>1.0</td>\n",
       "      <td>10000.0</td>\n",
       "    </tr>\n",
       "    <tr>\n",
       "      <th>2</th>\n",
       "      <td>41.0</td>\n",
       "      <td>1.0</td>\n",
       "      <td>16.0</td>\n",
       "      <td>5.0</td>\n",
       "      <td>7330.0</td>\n",
       "      <td>1.0</td>\n",
       "      <td>17.0</td>\n",
       "      <td>40.0</td>\n",
       "      <td>Male</td>\n",
       "      <td>1.0</td>\n",
       "      <td>24000.0</td>\n",
       "    </tr>\n",
       "    <tr>\n",
       "      <th>3</th>\n",
       "      <td>18.0</td>\n",
       "      <td>6.0</td>\n",
       "      <td>18.0</td>\n",
       "      <td>5.0</td>\n",
       "      <td>2722.0</td>\n",
       "      <td>1.0</td>\n",
       "      <td>17.0</td>\n",
       "      <td>2.0</td>\n",
       "      <td>Female</td>\n",
       "      <td>1.0</td>\n",
       "      <td>180.0</td>\n",
       "    </tr>\n",
       "    <tr>\n",
       "      <th>4</th>\n",
       "      <td>21.0</td>\n",
       "      <td>5.0</td>\n",
       "      <td>19.0</td>\n",
       "      <td>5.0</td>\n",
       "      <td>3870.0</td>\n",
       "      <td>12.0</td>\n",
       "      <td>17.0</td>\n",
       "      <td>50.0</td>\n",
       "      <td>Male</td>\n",
       "      <td>1.0</td>\n",
       "      <td>29000.0</td>\n",
       "    </tr>\n",
       "    <tr>\n",
       "      <th>...</th>\n",
       "      <td>...</td>\n",
       "      <td>...</td>\n",
       "      <td>...</td>\n",
       "      <td>...</td>\n",
       "      <td>...</td>\n",
       "      <td>...</td>\n",
       "      <td>...</td>\n",
       "      <td>...</td>\n",
       "      <td>...</td>\n",
       "      <td>...</td>\n",
       "      <td>...</td>\n",
       "    </tr>\n",
       "    <tr>\n",
       "      <th>1664495</th>\n",
       "      <td>39.0</td>\n",
       "      <td>6.0</td>\n",
       "      <td>16.0</td>\n",
       "      <td>5.0</td>\n",
       "      <td>6260.0</td>\n",
       "      <td>72.0</td>\n",
       "      <td>0.0</td>\n",
       "      <td>20.0</td>\n",
       "      <td>Male</td>\n",
       "      <td>1.0</td>\n",
       "      <td>9600.0</td>\n",
       "    </tr>\n",
       "    <tr>\n",
       "      <th>1664496</th>\n",
       "      <td>38.0</td>\n",
       "      <td>6.0</td>\n",
       "      <td>14.0</td>\n",
       "      <td>5.0</td>\n",
       "      <td>4251.0</td>\n",
       "      <td>72.0</td>\n",
       "      <td>0.0</td>\n",
       "      <td>32.0</td>\n",
       "      <td>Male</td>\n",
       "      <td>8.0</td>\n",
       "      <td>2400.0</td>\n",
       "    </tr>\n",
       "    <tr>\n",
       "      <th>1664497</th>\n",
       "      <td>37.0</td>\n",
       "      <td>1.0</td>\n",
       "      <td>19.0</td>\n",
       "      <td>3.0</td>\n",
       "      <td>7750.0</td>\n",
       "      <td>17.0</td>\n",
       "      <td>13.0</td>\n",
       "      <td>40.0</td>\n",
       "      <td>Female</td>\n",
       "      <td>9.0</td>\n",
       "      <td>19700.0</td>\n",
       "    </tr>\n",
       "    <tr>\n",
       "      <th>1664498</th>\n",
       "      <td>47.0</td>\n",
       "      <td>1.0</td>\n",
       "      <td>16.0</td>\n",
       "      <td>1.0</td>\n",
       "      <td>8990.0</td>\n",
       "      <td>72.0</td>\n",
       "      <td>1.0</td>\n",
       "      <td>40.0</td>\n",
       "      <td>Male</td>\n",
       "      <td>8.0</td>\n",
       "      <td>18700.0</td>\n",
       "    </tr>\n",
       "    <tr>\n",
       "      <th>1664499</th>\n",
       "      <td>34.0</td>\n",
       "      <td>1.0</td>\n",
       "      <td>16.0</td>\n",
       "      <td>5.0</td>\n",
       "      <td>6260.0</td>\n",
       "      <td>72.0</td>\n",
       "      <td>2.0</td>\n",
       "      <td>40.0</td>\n",
       "      <td>Male</td>\n",
       "      <td>1.0</td>\n",
       "      <td>7900.0</td>\n",
       "    </tr>\n",
       "  </tbody>\n",
       "</table>\n",
       "<p>1664500 rows × 11 columns</p>\n",
       "</div>"
      ],
      "text/plain": [
       "         AGEP  COW  SCHL  MAR    OCCP  POBP  RELP  WKHP     SEX  RAC1P  \\\n",
       "0        18.0  1.0  18.0  5.0  4720.0  13.0  17.0  21.0  Female    2.0   \n",
       "1        53.0  5.0  17.0  5.0  3605.0  18.0  16.0  40.0    Male    1.0   \n",
       "2        41.0  1.0  16.0  5.0  7330.0   1.0  17.0  40.0    Male    1.0   \n",
       "3        18.0  6.0  18.0  5.0  2722.0   1.0  17.0   2.0  Female    1.0   \n",
       "4        21.0  5.0  19.0  5.0  3870.0  12.0  17.0  50.0    Male    1.0   \n",
       "...       ...  ...   ...  ...     ...   ...   ...   ...     ...    ...   \n",
       "1664495  39.0  6.0  16.0  5.0  6260.0  72.0   0.0  20.0    Male    1.0   \n",
       "1664496  38.0  6.0  14.0  5.0  4251.0  72.0   0.0  32.0    Male    8.0   \n",
       "1664497  37.0  1.0  19.0  3.0  7750.0  17.0  13.0  40.0  Female    9.0   \n",
       "1664498  47.0  1.0  16.0  1.0  8990.0  72.0   1.0  40.0    Male    8.0   \n",
       "1664499  34.0  1.0  16.0  5.0  6260.0  72.0   2.0  40.0    Male    1.0   \n",
       "\n",
       "           PINCP  \n",
       "0         1600.0  \n",
       "1        10000.0  \n",
       "2        24000.0  \n",
       "3          180.0  \n",
       "4        29000.0  \n",
       "...          ...  \n",
       "1664495   9600.0  \n",
       "1664496   2400.0  \n",
       "1664497  19700.0  \n",
       "1664498  18700.0  \n",
       "1664499   7900.0  \n",
       "\n",
       "[1664500 rows x 11 columns]"
      ]
     },
     "execution_count": 6,
     "metadata": {},
     "output_type": "execute_result"
    }
   ],
   "source": [
    "df = pd.read_csv('ACSIncome.csv')\n",
    "df.SEX.replace(1, 'Male', inplace=True)\n",
    "df.SEX.replace(2, 'Female', inplace=True)\n",
    "df"
   ]
  },
  {
   "cell_type": "markdown",
   "id": "f9d88a8e",
   "metadata": {},
   "source": [
    "Define helper function"
   ]
  },
  {
   "cell_type": "code",
   "execution_count": 7,
   "id": "5a45498e",
   "metadata": {},
   "outputs": [],
   "source": [
    "def print_stats(df_male, df_female, col):\n",
    "    print('\\tMale\\t\\t Females')\n",
    "    print(f\"Min:\\t{df_male.loc['min', col]}\\t\\t {df_female.loc['min', col]}\")\n",
    "    print(f\"25%:\\t{df_male.loc['25%', col]}\\t\\t {df_female.loc['25%', col]}\")\n",
    "    print(f\"50%:\\t{df_male.loc['50%', col]}\\t\\t {df_female.loc['50%', col]}\")\n",
    "    print(f\"Mean:\\t{df_male.loc['mean', col]:.1f}\\t\\t {df_female.loc['mean', col]:.1f}\")\n",
    "    print(f\"75%:\\t{df_male.loc['75%', col]}\\t\\t {df_female.loc['75%', col]}\")\n",
    "    print(f\"Max:\\t{df_male.loc['max', col]:.1f}\\t\\t {df_female.loc['max', col]:.1f}\")"
   ]
  },
  {
   "cell_type": "markdown",
   "id": "8ba0e5e2",
   "metadata": {},
   "source": [
    "##  Summary info by sex across all occupations"
   ]
  },
  {
   "cell_type": "markdown",
   "id": "c7bd1331",
   "metadata": {},
   "source": [
    "#### Females"
   ]
  },
  {
   "cell_type": "code",
   "execution_count": 8,
   "id": "7c8db242",
   "metadata": {},
   "outputs": [
    {
     "data": {
      "text/html": [
       "<div>\n",
       "<style scoped>\n",
       "    .dataframe tbody tr th:only-of-type {\n",
       "        vertical-align: middle;\n",
       "    }\n",
       "\n",
       "    .dataframe tbody tr th {\n",
       "        vertical-align: top;\n",
       "    }\n",
       "\n",
       "    .dataframe thead th {\n",
       "        text-align: right;\n",
       "    }\n",
       "</style>\n",
       "<table border=\"1\" class=\"dataframe\">\n",
       "  <thead>\n",
       "    <tr style=\"text-align: right;\">\n",
       "      <th></th>\n",
       "      <th>AGEP</th>\n",
       "      <th>COW</th>\n",
       "      <th>SCHL</th>\n",
       "      <th>MAR</th>\n",
       "      <th>OCCP</th>\n",
       "      <th>POBP</th>\n",
       "      <th>RELP</th>\n",
       "      <th>WKHP</th>\n",
       "      <th>RAC1P</th>\n",
       "      <th>PINCP</th>\n",
       "    </tr>\n",
       "  </thead>\n",
       "  <tbody>\n",
       "    <tr>\n",
       "      <th>count</th>\n",
       "      <td>797765.000000</td>\n",
       "      <td>797765.000000</td>\n",
       "      <td>797765.000000</td>\n",
       "      <td>797765.000000</td>\n",
       "      <td>797765.000000</td>\n",
       "      <td>797765.000000</td>\n",
       "      <td>797765.000000</td>\n",
       "      <td>797765.000000</td>\n",
       "      <td>797765.000000</td>\n",
       "      <td>7.977650e+05</td>\n",
       "    </tr>\n",
       "    <tr>\n",
       "      <th>mean</th>\n",
       "      <td>43.240103</td>\n",
       "      <td>2.023250</td>\n",
       "      <td>18.880278</td>\n",
       "      <td>2.551489</td>\n",
       "      <td>3759.551819</td>\n",
       "      <td>64.151672</td>\n",
       "      <td>2.135080</td>\n",
       "      <td>35.669844</td>\n",
       "      <td>1.882503</td>\n",
       "      <td>4.460528e+04</td>\n",
       "    </tr>\n",
       "    <tr>\n",
       "      <th>std</th>\n",
       "      <td>15.232377</td>\n",
       "      <td>1.686244</td>\n",
       "      <td>3.123600</td>\n",
       "      <td>1.768810</td>\n",
       "      <td>2171.136823</td>\n",
       "      <td>91.218866</td>\n",
       "      <td>4.233478</td>\n",
       "      <td>12.635704</td>\n",
       "      <td>2.076320</td>\n",
       "      <td>5.340684e+04</td>\n",
       "    </tr>\n",
       "    <tr>\n",
       "      <th>min</th>\n",
       "      <td>17.000000</td>\n",
       "      <td>1.000000</td>\n",
       "      <td>1.000000</td>\n",
       "      <td>1.000000</td>\n",
       "      <td>10.000000</td>\n",
       "      <td>1.000000</td>\n",
       "      <td>0.000000</td>\n",
       "      <td>1.000000</td>\n",
       "      <td>1.000000</td>\n",
       "      <td>1.100000e+02</td>\n",
       "    </tr>\n",
       "    <tr>\n",
       "      <th>25%</th>\n",
       "      <td>30.000000</td>\n",
       "      <td>1.000000</td>\n",
       "      <td>16.000000</td>\n",
       "      <td>1.000000</td>\n",
       "      <td>2310.000000</td>\n",
       "      <td>18.000000</td>\n",
       "      <td>0.000000</td>\n",
       "      <td>30.000000</td>\n",
       "      <td>1.000000</td>\n",
       "      <td>1.530000e+04</td>\n",
       "    </tr>\n",
       "    <tr>\n",
       "      <th>50%</th>\n",
       "      <td>43.000000</td>\n",
       "      <td>1.000000</td>\n",
       "      <td>19.000000</td>\n",
       "      <td>1.000000</td>\n",
       "      <td>4000.000000</td>\n",
       "      <td>36.000000</td>\n",
       "      <td>1.000000</td>\n",
       "      <td>40.000000</td>\n",
       "      <td>1.000000</td>\n",
       "      <td>3.200000e+04</td>\n",
       "    </tr>\n",
       "    <tr>\n",
       "      <th>75%</th>\n",
       "      <td>56.000000</td>\n",
       "      <td>3.000000</td>\n",
       "      <td>21.000000</td>\n",
       "      <td>5.000000</td>\n",
       "      <td>5000.000000</td>\n",
       "      <td>48.000000</td>\n",
       "      <td>1.000000</td>\n",
       "      <td>40.000000</td>\n",
       "      <td>1.000000</td>\n",
       "      <td>5.600000e+04</td>\n",
       "    </tr>\n",
       "    <tr>\n",
       "      <th>max</th>\n",
       "      <td>96.000000</td>\n",
       "      <td>8.000000</td>\n",
       "      <td>24.000000</td>\n",
       "      <td>5.000000</td>\n",
       "      <td>9830.000000</td>\n",
       "      <td>554.000000</td>\n",
       "      <td>17.000000</td>\n",
       "      <td>99.000000</td>\n",
       "      <td>9.000000</td>\n",
       "      <td>1.376000e+06</td>\n",
       "    </tr>\n",
       "  </tbody>\n",
       "</table>\n",
       "</div>"
      ],
      "text/plain": [
       "                AGEP            COW           SCHL            MAR  \\\n",
       "count  797765.000000  797765.000000  797765.000000  797765.000000   \n",
       "mean       43.240103       2.023250      18.880278       2.551489   \n",
       "std        15.232377       1.686244       3.123600       1.768810   \n",
       "min        17.000000       1.000000       1.000000       1.000000   \n",
       "25%        30.000000       1.000000      16.000000       1.000000   \n",
       "50%        43.000000       1.000000      19.000000       1.000000   \n",
       "75%        56.000000       3.000000      21.000000       5.000000   \n",
       "max        96.000000       8.000000      24.000000       5.000000   \n",
       "\n",
       "                OCCP           POBP           RELP           WKHP  \\\n",
       "count  797765.000000  797765.000000  797765.000000  797765.000000   \n",
       "mean     3759.551819      64.151672       2.135080      35.669844   \n",
       "std      2171.136823      91.218866       4.233478      12.635704   \n",
       "min        10.000000       1.000000       0.000000       1.000000   \n",
       "25%      2310.000000      18.000000       0.000000      30.000000   \n",
       "50%      4000.000000      36.000000       1.000000      40.000000   \n",
       "75%      5000.000000      48.000000       1.000000      40.000000   \n",
       "max      9830.000000     554.000000      17.000000      99.000000   \n",
       "\n",
       "               RAC1P         PINCP  \n",
       "count  797765.000000  7.977650e+05  \n",
       "mean        1.882503  4.460528e+04  \n",
       "std         2.076320  5.340684e+04  \n",
       "min         1.000000  1.100000e+02  \n",
       "25%         1.000000  1.530000e+04  \n",
       "50%         1.000000  3.200000e+04  \n",
       "75%         1.000000  5.600000e+04  \n",
       "max         9.000000  1.376000e+06  "
      ]
     },
     "execution_count": 8,
     "metadata": {},
     "output_type": "execute_result"
    }
   ],
   "source": [
    "df_female_describe = df[df.SEX == 'Female'].describe()\n",
    "df_female_describe"
   ]
  },
  {
   "cell_type": "markdown",
   "id": "592b2204",
   "metadata": {},
   "source": [
    "#### Males"
   ]
  },
  {
   "cell_type": "code",
   "execution_count": 9,
   "id": "a55f12a9",
   "metadata": {},
   "outputs": [
    {
     "data": {
      "text/html": [
       "<div>\n",
       "<style scoped>\n",
       "    .dataframe tbody tr th:only-of-type {\n",
       "        vertical-align: middle;\n",
       "    }\n",
       "\n",
       "    .dataframe tbody tr th {\n",
       "        vertical-align: top;\n",
       "    }\n",
       "\n",
       "    .dataframe thead th {\n",
       "        text-align: right;\n",
       "    }\n",
       "</style>\n",
       "<table border=\"1\" class=\"dataframe\">\n",
       "  <thead>\n",
       "    <tr style=\"text-align: right;\">\n",
       "      <th></th>\n",
       "      <th>AGEP</th>\n",
       "      <th>COW</th>\n",
       "      <th>SCHL</th>\n",
       "      <th>MAR</th>\n",
       "      <th>OCCP</th>\n",
       "      <th>POBP</th>\n",
       "      <th>RELP</th>\n",
       "      <th>WKHP</th>\n",
       "      <th>RAC1P</th>\n",
       "      <th>PINCP</th>\n",
       "    </tr>\n",
       "  </thead>\n",
       "  <tbody>\n",
       "    <tr>\n",
       "      <th>count</th>\n",
       "      <td>866735.000000</td>\n",
       "      <td>866735.000000</td>\n",
       "      <td>866735.000000</td>\n",
       "      <td>866735.000000</td>\n",
       "      <td>866735.000000</td>\n",
       "      <td>866735.000000</td>\n",
       "      <td>866735.000000</td>\n",
       "      <td>866735.000000</td>\n",
       "      <td>866735.000000</td>\n",
       "      <td>8.667350e+05</td>\n",
       "    </tr>\n",
       "    <tr>\n",
       "      <th>mean</th>\n",
       "      <td>43.568819</td>\n",
       "      <td>2.127432</td>\n",
       "      <td>18.376866</td>\n",
       "      <td>2.494851</td>\n",
       "      <td>4567.983552</td>\n",
       "      <td>67.349972</td>\n",
       "      <td>2.338979</td>\n",
       "      <td>40.785956</td>\n",
       "      <td>1.867604</td>\n",
       "      <td>6.776289e+04</td>\n",
       "    </tr>\n",
       "    <tr>\n",
       "      <th>std</th>\n",
       "      <td>15.364194</td>\n",
       "      <td>1.943254</td>\n",
       "      <td>3.432778</td>\n",
       "      <td>1.821610</td>\n",
       "      <td>2987.154967</td>\n",
       "      <td>94.701807</td>\n",
       "      <td>4.518311</td>\n",
       "      <td>13.003634</td>\n",
       "      <td>2.091754</td>\n",
       "      <td>8.585176e+04</td>\n",
       "    </tr>\n",
       "    <tr>\n",
       "      <th>min</th>\n",
       "      <td>17.000000</td>\n",
       "      <td>1.000000</td>\n",
       "      <td>1.000000</td>\n",
       "      <td>1.000000</td>\n",
       "      <td>10.000000</td>\n",
       "      <td>1.000000</td>\n",
       "      <td>0.000000</td>\n",
       "      <td>1.000000</td>\n",
       "      <td>1.000000</td>\n",
       "      <td>1.040000e+02</td>\n",
       "    </tr>\n",
       "    <tr>\n",
       "      <th>25%</th>\n",
       "      <td>31.000000</td>\n",
       "      <td>1.000000</td>\n",
       "      <td>16.000000</td>\n",
       "      <td>1.000000</td>\n",
       "      <td>1980.000000</td>\n",
       "      <td>18.000000</td>\n",
       "      <td>0.000000</td>\n",
       "      <td>40.000000</td>\n",
       "      <td>1.000000</td>\n",
       "      <td>2.400000e+04</td>\n",
       "    </tr>\n",
       "    <tr>\n",
       "      <th>50%</th>\n",
       "      <td>43.000000</td>\n",
       "      <td>1.000000</td>\n",
       "      <td>19.000000</td>\n",
       "      <td>1.000000</td>\n",
       "      <td>4700.000000</td>\n",
       "      <td>36.000000</td>\n",
       "      <td>0.000000</td>\n",
       "      <td>40.000000</td>\n",
       "      <td>1.000000</td>\n",
       "      <td>4.500000e+04</td>\n",
       "    </tr>\n",
       "    <tr>\n",
       "      <th>75%</th>\n",
       "      <td>56.000000</td>\n",
       "      <td>3.000000</td>\n",
       "      <td>21.000000</td>\n",
       "      <td>5.000000</td>\n",
       "      <td>7000.000000</td>\n",
       "      <td>48.000000</td>\n",
       "      <td>2.000000</td>\n",
       "      <td>47.000000</td>\n",
       "      <td>1.000000</td>\n",
       "      <td>8.000000e+04</td>\n",
       "    </tr>\n",
       "    <tr>\n",
       "      <th>max</th>\n",
       "      <td>96.000000</td>\n",
       "      <td>8.000000</td>\n",
       "      <td>24.000000</td>\n",
       "      <td>5.000000</td>\n",
       "      <td>9830.000000</td>\n",
       "      <td>554.000000</td>\n",
       "      <td>17.000000</td>\n",
       "      <td>99.000000</td>\n",
       "      <td>9.000000</td>\n",
       "      <td>1.423000e+06</td>\n",
       "    </tr>\n",
       "  </tbody>\n",
       "</table>\n",
       "</div>"
      ],
      "text/plain": [
       "                AGEP            COW           SCHL            MAR  \\\n",
       "count  866735.000000  866735.000000  866735.000000  866735.000000   \n",
       "mean       43.568819       2.127432      18.376866       2.494851   \n",
       "std        15.364194       1.943254       3.432778       1.821610   \n",
       "min        17.000000       1.000000       1.000000       1.000000   \n",
       "25%        31.000000       1.000000      16.000000       1.000000   \n",
       "50%        43.000000       1.000000      19.000000       1.000000   \n",
       "75%        56.000000       3.000000      21.000000       5.000000   \n",
       "max        96.000000       8.000000      24.000000       5.000000   \n",
       "\n",
       "                OCCP           POBP           RELP           WKHP  \\\n",
       "count  866735.000000  866735.000000  866735.000000  866735.000000   \n",
       "mean     4567.983552      67.349972       2.338979      40.785956   \n",
       "std      2987.154967      94.701807       4.518311      13.003634   \n",
       "min        10.000000       1.000000       0.000000       1.000000   \n",
       "25%      1980.000000      18.000000       0.000000      40.000000   \n",
       "50%      4700.000000      36.000000       0.000000      40.000000   \n",
       "75%      7000.000000      48.000000       2.000000      47.000000   \n",
       "max      9830.000000     554.000000      17.000000      99.000000   \n",
       "\n",
       "               RAC1P         PINCP  \n",
       "count  866735.000000  8.667350e+05  \n",
       "mean        1.867604  6.776289e+04  \n",
       "std         2.091754  8.585176e+04  \n",
       "min         1.000000  1.040000e+02  \n",
       "25%         1.000000  2.400000e+04  \n",
       "50%         1.000000  4.500000e+04  \n",
       "75%         1.000000  8.000000e+04  \n",
       "max         9.000000  1.423000e+06  "
      ]
     },
     "execution_count": 9,
     "metadata": {},
     "output_type": "execute_result"
    }
   ],
   "source": [
    "df_male_describe = df[df.SEX == 'Male'].describe()\n",
    "df_male_describe"
   ]
  },
  {
   "cell_type": "markdown",
   "id": "b10ed15c",
   "metadata": {},
   "source": [
    "### Counts"
   ]
  },
  {
   "cell_type": "code",
   "execution_count": 10,
   "id": "c5cb12cd",
   "metadata": {},
   "outputs": [
    {
     "name": "stdout",
     "output_type": "stream",
     "text": [
      "There are 866,735 males (52.1%) and 797,765 females (47.9%)\n"
     ]
    }
   ],
   "source": [
    "num_male = int(df_male_describe.loc['count'][0])\n",
    "num_female = int(df_female_describe.loc['count'][0])\n",
    "total = num_male + num_female\n",
    "print(f'There are {num_male:,} males ({num_male/total*100:.1f}%) and {num_female:,} females ({num_female/total*100:.1f}%)')"
   ]
  },
  {
   "cell_type": "markdown",
   "id": "44bbb275",
   "metadata": {},
   "source": [
    "### Age Distribution\n",
    "Age distribution is very similar between males and females. Min, max, mean, and median are identical between these 2 groups"
   ]
  },
  {
   "cell_type": "code",
   "execution_count": 11,
   "id": "aadec411",
   "metadata": {},
   "outputs": [
    {
     "name": "stdout",
     "output_type": "stream",
     "text": [
      "\tMale\t\t Females\n",
      "Min:\t17.0\t\t 17.0\n",
      "25%:\t31.0\t\t 30.0\n",
      "50%:\t43.0\t\t 43.0\n",
      "Mean:\t43.6\t\t 43.2\n",
      "75%:\t56.0\t\t 56.0\n",
      "Max:\t96.0\t\t 96.0\n"
     ]
    }
   ],
   "source": [
    "print_stats(df_male_describe, df_female_describe, 'AGEP')"
   ]
  },
  {
   "cell_type": "code",
   "execution_count": 12,
   "id": "adda57ce",
   "metadata": {},
   "outputs": [
    {
     "data": {
      "text/plain": [
       "Text(0.5, 1.0, 'Age Distribution is Similar')"
      ]
     },
     "execution_count": 12,
     "metadata": {},
     "output_type": "execute_result"
    },
    {
     "data": {
      "image/png": "[encoded data removed]",
      "text/plain": [
       "<Figure size 432x288 with 1 Axes>"
      ]
     },
     "metadata": {},
     "output_type": "display_data"
    }
   ],
   "source": [
    "ax = sns.kdeplot(data=df,\n",
    "                 x='AGEP',\n",
    "                 hue='SEX',\n",
    "                 shade=True,\n",
    "                 common_norm=False,\n",
    "                 palette='inferno_r',\n",
    "                 linewidth=2,\n",
    "                 alpha=0.3,\n",
    "                );\n",
    "ax.set_xlabel('Age')\n",
    "ax.set_title('Age Distribution is Similar', fontsize=18)"
   ]
  },
  {
   "cell_type": "markdown",
   "id": "f81d22c2",
   "metadata": {},
   "source": [
    "### Hours Worked per Week\n",
    "Accross all occupations, on average, males worked 14% more hours than females. "
   ]
  },
  {
   "cell_type": "code",
   "execution_count": 13,
   "id": "d6e567e4",
   "metadata": {},
   "outputs": [
    {
     "name": "stdout",
     "output_type": "stream",
     "text": [
      "Across all occupations, males worked 14.3% more hours than females (using mean)\n"
     ]
    }
   ],
   "source": [
    "male_hrs = df_male_describe.loc['mean']['WKHP']\n",
    "female_hrs = df_female_describe.loc['mean']['WKHP']\n",
    "print(f'Across all occupations, males worked {(male_hrs/female_hrs-1)*100:.1f}% more hours than females (using mean)')"
   ]
  },
  {
   "cell_type": "code",
   "execution_count": 14,
   "id": "08ab7ce3",
   "metadata": {},
   "outputs": [
    {
     "name": "stdout",
     "output_type": "stream",
     "text": [
      "\tMale\t\t Females\n",
      "Min:\t1.0\t\t 1.0\n",
      "25%:\t40.0\t\t 30.0\n",
      "50%:\t40.0\t\t 40.0\n",
      "Mean:\t40.8\t\t 35.7\n",
      "75%:\t47.0\t\t 40.0\n",
      "Max:\t99.0\t\t 99.0\n"
     ]
    }
   ],
   "source": [
    "print_stats(df_male_describe, df_female_describe, 'WKHP')"
   ]
  },
  {
   "cell_type": "code",
   "execution_count": 15,
   "id": "aeb0bdde",
   "metadata": {},
   "outputs": [
    {
     "data": {
      "image/png": "[encoded data removed]",
      "text/plain": [
       "<Figure size 432x288 with 1 Axes>"
      ]
     },
     "metadata": {},
     "output_type": "display_data"
    }
   ],
   "source": [
    "ax = sns.kdeplot(data=df,\n",
    "                 x='WKHP',\n",
    "                 hue='SEX',\n",
    "                 shade=True,\n",
    "                 common_norm=False,\n",
    "                 palette='inferno_r',\n",
    "                 linewidth=2,\n",
    "                 alpha=0.3,\n",
    "                );\n",
    "ax.set_xlabel('Hours Worked per Week');"
   ]
  },
  {
   "cell_type": "markdown",
   "id": "799d5569",
   "metadata": {},
   "source": [
    "### Hold Occupation Constant"
   ]
  },
  {
   "cell_type": "code",
   "execution_count": 16,
   "id": "73323a43",
   "metadata": {},
   "outputs": [
    {
     "name": "stdout",
     "output_type": "stream",
     "text": [
      "440 42946\n",
      "2310 44763\n"
     ]
    }
   ],
   "source": [
    "values, counts = np.unique(df.OCCP.values, return_counts=True)\n",
    "occupations = {int(v): c for v,c in zip(values, counts)}\n",
    "for v, c in occupations.items():\n",
    "    if c > 40000:\n",
    "        print(int(v), c)"
   ]
  },
  {
   "cell_type": "code",
   "execution_count": 17,
   "id": "e88caff7",
   "metadata": {},
   "outputs": [
    {
     "name": "stdout",
     "output_type": "stream",
     "text": [
      "OCCP code\t count\n",
      "2310\t\t 44763\n",
      "440\t\t 42946\n",
      "9130\t\t 38262\n",
      "4720\t\t 35495\n",
      "4760\t\t 35331\n",
      "3255\t\t 34974\n",
      "5740\t\t 31525\n",
      "5240\t\t 31118\n",
      "4700\t\t 31097\n",
      "4220\t\t 28484\n"
     ]
    }
   ],
   "source": [
    "occupations_rev = {v:k for k, v in occupations.items()}\n",
    "keys = list(occupations_rev.keys())\n",
    "keys.sort(reverse=True)\n",
    "print('OCCP code\\t count')\n",
    "for key in keys[:10]:\n",
    "    print(f'{occupations_rev[key]}\\t\\t {key}')"
   ]
  },
  {
   "cell_type": "markdown",
   "id": "13a8aeb6",
   "metadata": {},
   "source": [
    "The most popular occupation codes are\n",
    "- 2310: EDU-Elementary And Middle School Teachers\n",
    "- 440: MGR-Other Managers\n",
    "- 9130: TRN-Driver/Sales Workers And Truck Drivers\n",
    "- 4720: SAL-Cashiers\n",
    "- 4760: SAL-Retail Salespersons\n",
    "- 3255: MED-Registered Nurses\n",
    "- 5740: OFF-Secretaries And Administrative Assistants, Except Legal, Medial, And Executive\n",
    "- 5240: OFF-Customer Service Representatives\n",
    "- 4700: SAL-First-Line Supervisors Of Retail Sales Workers\n",
    "- 4220: CLN-Janitors And Building Cleaners\n",
    "\n",
    "Use US Census data dictionary to find the codes: https://www2.census.gov/programs-surveys/acs/tech_docs/pums/data_dict/PUMS_Data_Dictionary_2018.pdf"
   ]
  },
  {
   "cell_type": "markdown",
   "id": "33ce7924",
   "metadata": {},
   "source": [
    "#### Examine 2310: Teachers"
   ]
  },
  {
   "cell_type": "code",
   "execution_count": 18,
   "id": "535d488e",
   "metadata": {},
   "outputs": [],
   "source": [
    "OCCP_ID = 2310"
   ]
  },
  {
   "cell_type": "markdown",
   "id": "b8108f3a",
   "metadata": {},
   "source": [
    "#### Males"
   ]
  },
  {
   "cell_type": "code",
   "execution_count": 19,
   "id": "67de0984",
   "metadata": {
    "scrolled": true
   },
   "outputs": [
    {
     "data": {
      "text/html": [
       "<div>\n",
       "<style scoped>\n",
       "    .dataframe tbody tr th:only-of-type {\n",
       "        vertical-align: middle;\n",
       "    }\n",
       "\n",
       "    .dataframe tbody tr th {\n",
       "        vertical-align: top;\n",
       "    }\n",
       "\n",
       "    .dataframe thead th {\n",
       "        text-align: right;\n",
       "    }\n",
       "</style>\n",
       "<table border=\"1\" class=\"dataframe\">\n",
       "  <thead>\n",
       "    <tr style=\"text-align: right;\">\n",
       "      <th></th>\n",
       "      <th>AGEP</th>\n",
       "      <th>COW</th>\n",
       "      <th>SCHL</th>\n",
       "      <th>MAR</th>\n",
       "      <th>OCCP</th>\n",
       "      <th>POBP</th>\n",
       "      <th>RELP</th>\n",
       "      <th>WKHP</th>\n",
       "      <th>RAC1P</th>\n",
       "      <th>PINCP</th>\n",
       "    </tr>\n",
       "  </thead>\n",
       "  <tbody>\n",
       "    <tr>\n",
       "      <th>count</th>\n",
       "      <td>9401.000000</td>\n",
       "      <td>9401.000000</td>\n",
       "      <td>9401.000000</td>\n",
       "      <td>9401.000000</td>\n",
       "      <td>9401.0</td>\n",
       "      <td>9401.000000</td>\n",
       "      <td>9401.000000</td>\n",
       "      <td>9401.000000</td>\n",
       "      <td>9401.000000</td>\n",
       "      <td>9401.000000</td>\n",
       "    </tr>\n",
       "    <tr>\n",
       "      <th>mean</th>\n",
       "      <td>45.285927</td>\n",
       "      <td>2.909690</td>\n",
       "      <td>21.516966</td>\n",
       "      <td>2.019253</td>\n",
       "      <td>2310.0</td>\n",
       "      <td>48.081268</td>\n",
       "      <td>1.272737</td>\n",
       "      <td>40.756409</td>\n",
       "      <td>1.519732</td>\n",
       "      <td>58444.485693</td>\n",
       "    </tr>\n",
       "    <tr>\n",
       "      <th>std</th>\n",
       "      <td>13.528337</td>\n",
       "      <td>1.023465</td>\n",
       "      <td>0.845485</td>\n",
       "      <td>1.649678</td>\n",
       "      <td>0.0</td>\n",
       "      <td>71.059466</td>\n",
       "      <td>3.138347</td>\n",
       "      <td>11.781712</td>\n",
       "      <td>1.659357</td>\n",
       "      <td>34651.241164</td>\n",
       "    </tr>\n",
       "    <tr>\n",
       "      <th>min</th>\n",
       "      <td>18.000000</td>\n",
       "      <td>1.000000</td>\n",
       "      <td>15.000000</td>\n",
       "      <td>1.000000</td>\n",
       "      <td>2310.0</td>\n",
       "      <td>1.000000</td>\n",
       "      <td>0.000000</td>\n",
       "      <td>1.000000</td>\n",
       "      <td>1.000000</td>\n",
       "      <td>150.000000</td>\n",
       "    </tr>\n",
       "    <tr>\n",
       "      <th>25%</th>\n",
       "      <td>34.000000</td>\n",
       "      <td>2.000000</td>\n",
       "      <td>21.000000</td>\n",
       "      <td>1.000000</td>\n",
       "      <td>2310.0</td>\n",
       "      <td>17.000000</td>\n",
       "      <td>0.000000</td>\n",
       "      <td>40.000000</td>\n",
       "      <td>1.000000</td>\n",
       "      <td>40000.000000</td>\n",
       "    </tr>\n",
       "    <tr>\n",
       "      <th>50%</th>\n",
       "      <td>44.000000</td>\n",
       "      <td>3.000000</td>\n",
       "      <td>22.000000</td>\n",
       "      <td>1.000000</td>\n",
       "      <td>2310.0</td>\n",
       "      <td>35.000000</td>\n",
       "      <td>0.000000</td>\n",
       "      <td>40.000000</td>\n",
       "      <td>1.000000</td>\n",
       "      <td>55000.000000</td>\n",
       "    </tr>\n",
       "    <tr>\n",
       "      <th>75%</th>\n",
       "      <td>55.000000</td>\n",
       "      <td>4.000000</td>\n",
       "      <td>22.000000</td>\n",
       "      <td>3.000000</td>\n",
       "      <td>2310.0</td>\n",
       "      <td>45.000000</td>\n",
       "      <td>1.000000</td>\n",
       "      <td>46.000000</td>\n",
       "      <td>1.000000</td>\n",
       "      <td>72000.000000</td>\n",
       "    </tr>\n",
       "    <tr>\n",
       "      <th>max</th>\n",
       "      <td>90.000000</td>\n",
       "      <td>8.000000</td>\n",
       "      <td>24.000000</td>\n",
       "      <td>5.000000</td>\n",
       "      <td>2310.0</td>\n",
       "      <td>554.000000</td>\n",
       "      <td>17.000000</td>\n",
       "      <td>99.000000</td>\n",
       "      <td>9.000000</td>\n",
       "      <td>543000.000000</td>\n",
       "    </tr>\n",
       "  </tbody>\n",
       "</table>\n",
       "</div>"
      ],
      "text/plain": [
       "              AGEP          COW         SCHL          MAR    OCCP  \\\n",
       "count  9401.000000  9401.000000  9401.000000  9401.000000  9401.0   \n",
       "mean     45.285927     2.909690    21.516966     2.019253  2310.0   \n",
       "std      13.528337     1.023465     0.845485     1.649678     0.0   \n",
       "min      18.000000     1.000000    15.000000     1.000000  2310.0   \n",
       "25%      34.000000     2.000000    21.000000     1.000000  2310.0   \n",
       "50%      44.000000     3.000000    22.000000     1.000000  2310.0   \n",
       "75%      55.000000     4.000000    22.000000     3.000000  2310.0   \n",
       "max      90.000000     8.000000    24.000000     5.000000  2310.0   \n",
       "\n",
       "              POBP         RELP         WKHP        RAC1P          PINCP  \n",
       "count  9401.000000  9401.000000  9401.000000  9401.000000    9401.000000  \n",
       "mean     48.081268     1.272737    40.756409     1.519732   58444.485693  \n",
       "std      71.059466     3.138347    11.781712     1.659357   34651.241164  \n",
       "min       1.000000     0.000000     1.000000     1.000000     150.000000  \n",
       "25%      17.000000     0.000000    40.000000     1.000000   40000.000000  \n",
       "50%      35.000000     0.000000    40.000000     1.000000   55000.000000  \n",
       "75%      45.000000     1.000000    46.000000     1.000000   72000.000000  \n",
       "max     554.000000    17.000000    99.000000     9.000000  543000.000000  "
      ]
     },
     "execution_count": 19,
     "metadata": {},
     "output_type": "execute_result"
    }
   ],
   "source": [
    "df_male_teacher_describe = df[(df.SEX == 'Male') & (df.OCCP == OCCP_ID)].describe()\n",
    "df_male_teacher_describe"
   ]
  },
  {
   "cell_type": "markdown",
   "id": "7bf95ed9",
   "metadata": {},
   "source": [
    "#### Females"
   ]
  },
  {
   "cell_type": "code",
   "execution_count": 20,
   "id": "c2da81f3",
   "metadata": {},
   "outputs": [
    {
     "data": {
      "text/html": [
       "<div>\n",
       "<style scoped>\n",
       "    .dataframe tbody tr th:only-of-type {\n",
       "        vertical-align: middle;\n",
       "    }\n",
       "\n",
       "    .dataframe tbody tr th {\n",
       "        vertical-align: top;\n",
       "    }\n",
       "\n",
       "    .dataframe thead th {\n",
       "        text-align: right;\n",
       "    }\n",
       "</style>\n",
       "<table border=\"1\" class=\"dataframe\">\n",
       "  <thead>\n",
       "    <tr style=\"text-align: right;\">\n",
       "      <th></th>\n",
       "      <th>AGEP</th>\n",
       "      <th>COW</th>\n",
       "      <th>SCHL</th>\n",
       "      <th>MAR</th>\n",
       "      <th>OCCP</th>\n",
       "      <th>POBP</th>\n",
       "      <th>RELP</th>\n",
       "      <th>WKHP</th>\n",
       "      <th>RAC1P</th>\n",
       "      <th>PINCP</th>\n",
       "    </tr>\n",
       "  </thead>\n",
       "  <tbody>\n",
       "    <tr>\n",
       "      <th>count</th>\n",
       "      <td>35362.000000</td>\n",
       "      <td>35362.000000</td>\n",
       "      <td>35362.000000</td>\n",
       "      <td>35362.000000</td>\n",
       "      <td>35362.0</td>\n",
       "      <td>35362.000000</td>\n",
       "      <td>35362.000000</td>\n",
       "      <td>35362.000000</td>\n",
       "      <td>35362.000000</td>\n",
       "      <td>35362.000000</td>\n",
       "    </tr>\n",
       "    <tr>\n",
       "      <th>mean</th>\n",
       "      <td>44.640009</td>\n",
       "      <td>2.839065</td>\n",
       "      <td>21.444093</td>\n",
       "      <td>1.953340</td>\n",
       "      <td>2310.0</td>\n",
       "      <td>47.384367</td>\n",
       "      <td>1.121741</td>\n",
       "      <td>39.109666</td>\n",
       "      <td>1.480092</td>\n",
       "      <td>49585.330015</td>\n",
       "    </tr>\n",
       "    <tr>\n",
       "      <th>std</th>\n",
       "      <td>12.926986</td>\n",
       "      <td>1.022375</td>\n",
       "      <td>0.836343</td>\n",
       "      <td>1.551698</td>\n",
       "      <td>0.0</td>\n",
       "      <td>68.533105</td>\n",
       "      <td>2.665590</td>\n",
       "      <td>11.914746</td>\n",
       "      <td>1.593184</td>\n",
       "      <td>31603.459695</td>\n",
       "    </tr>\n",
       "    <tr>\n",
       "      <th>min</th>\n",
       "      <td>17.000000</td>\n",
       "      <td>1.000000</td>\n",
       "      <td>18.000000</td>\n",
       "      <td>1.000000</td>\n",
       "      <td>2310.0</td>\n",
       "      <td>1.000000</td>\n",
       "      <td>0.000000</td>\n",
       "      <td>1.000000</td>\n",
       "      <td>1.000000</td>\n",
       "      <td>110.000000</td>\n",
       "    </tr>\n",
       "    <tr>\n",
       "      <th>25%</th>\n",
       "      <td>34.000000</td>\n",
       "      <td>2.000000</td>\n",
       "      <td>21.000000</td>\n",
       "      <td>1.000000</td>\n",
       "      <td>2310.0</td>\n",
       "      <td>17.000000</td>\n",
       "      <td>0.000000</td>\n",
       "      <td>38.000000</td>\n",
       "      <td>1.000000</td>\n",
       "      <td>32000.000000</td>\n",
       "    </tr>\n",
       "    <tr>\n",
       "      <th>50%</th>\n",
       "      <td>44.000000</td>\n",
       "      <td>3.000000</td>\n",
       "      <td>22.000000</td>\n",
       "      <td>1.000000</td>\n",
       "      <td>2310.0</td>\n",
       "      <td>34.000000</td>\n",
       "      <td>0.000000</td>\n",
       "      <td>40.000000</td>\n",
       "      <td>1.000000</td>\n",
       "      <td>48000.000000</td>\n",
       "    </tr>\n",
       "    <tr>\n",
       "      <th>75%</th>\n",
       "      <td>54.000000</td>\n",
       "      <td>3.000000</td>\n",
       "      <td>22.000000</td>\n",
       "      <td>3.000000</td>\n",
       "      <td>2310.0</td>\n",
       "      <td>46.000000</td>\n",
       "      <td>1.000000</td>\n",
       "      <td>45.000000</td>\n",
       "      <td>1.000000</td>\n",
       "      <td>63000.000000</td>\n",
       "    </tr>\n",
       "    <tr>\n",
       "      <th>max</th>\n",
       "      <td>95.000000</td>\n",
       "      <td>8.000000</td>\n",
       "      <td>24.000000</td>\n",
       "      <td>5.000000</td>\n",
       "      <td>2310.0</td>\n",
       "      <td>554.000000</td>\n",
       "      <td>17.000000</td>\n",
       "      <td>99.000000</td>\n",
       "      <td>9.000000</td>\n",
       "      <td>660000.000000</td>\n",
       "    </tr>\n",
       "  </tbody>\n",
       "</table>\n",
       "</div>"
      ],
      "text/plain": [
       "               AGEP           COW          SCHL           MAR     OCCP  \\\n",
       "count  35362.000000  35362.000000  35362.000000  35362.000000  35362.0   \n",
       "mean      44.640009      2.839065     21.444093      1.953340   2310.0   \n",
       "std       12.926986      1.022375      0.836343      1.551698      0.0   \n",
       "min       17.000000      1.000000     18.000000      1.000000   2310.0   \n",
       "25%       34.000000      2.000000     21.000000      1.000000   2310.0   \n",
       "50%       44.000000      3.000000     22.000000      1.000000   2310.0   \n",
       "75%       54.000000      3.000000     22.000000      3.000000   2310.0   \n",
       "max       95.000000      8.000000     24.000000      5.000000   2310.0   \n",
       "\n",
       "               POBP          RELP          WKHP         RAC1P          PINCP  \n",
       "count  35362.000000  35362.000000  35362.000000  35362.000000   35362.000000  \n",
       "mean      47.384367      1.121741     39.109666      1.480092   49585.330015  \n",
       "std       68.533105      2.665590     11.914746      1.593184   31603.459695  \n",
       "min        1.000000      0.000000      1.000000      1.000000     110.000000  \n",
       "25%       17.000000      0.000000     38.000000      1.000000   32000.000000  \n",
       "50%       34.000000      0.000000     40.000000      1.000000   48000.000000  \n",
       "75%       46.000000      1.000000     45.000000      1.000000   63000.000000  \n",
       "max      554.000000     17.000000     99.000000      9.000000  660000.000000  "
      ]
     },
     "execution_count": 20,
     "metadata": {},
     "output_type": "execute_result"
    }
   ],
   "source": [
    "df_female_teacher_describe = df[(df.SEX == 'Female') & (df.OCCP == OCCP_ID)].describe()\n",
    "df_female_teacher_describe"
   ]
  },
  {
   "cell_type": "markdown",
   "id": "8f898c0e",
   "metadata": {},
   "source": [
    "#### Counts"
   ]
  },
  {
   "cell_type": "code",
   "execution_count": 21,
   "id": "c8322da9",
   "metadata": {},
   "outputs": [
    {
     "name": "stdout",
     "output_type": "stream",
     "text": [
      "There are 9,401 males (21.0%) and 35,362 females (79.0%)\n"
     ]
    }
   ],
   "source": [
    "num_male = int(df_male_teacher_describe.loc['count'][0])\n",
    "num_female = int(df_female_teacher_describe.loc['count'][0])\n",
    "total = num_male + num_female\n",
    "print(f'There are {num_male:,} males ({num_male/total*100:.1f}%) and '\n",
    "      f'{num_female:,} females ({num_female/total*100:.1f}%)')"
   ]
  },
  {
   "cell_type": "markdown",
   "id": "99f8f599",
   "metadata": {},
   "source": [
    "#### Age Distribution\n",
    "- Quantitatively, min, max, mean, median, 25th percentile, and 75th percentile and nearly identical"
   ]
  },
  {
   "cell_type": "code",
   "execution_count": 22,
   "id": "a3c0e62d",
   "metadata": {},
   "outputs": [
    {
     "name": "stdout",
     "output_type": "stream",
     "text": [
      "\tMale\t\t Females\n",
      "Min:\t18.0\t\t 17.0\n",
      "25%:\t34.0\t\t 34.0\n",
      "50%:\t44.0\t\t 44.0\n",
      "Mean:\t45.3\t\t 44.6\n",
      "75%:\t55.0\t\t 54.0\n",
      "Max:\t90.0\t\t 95.0\n"
     ]
    }
   ],
   "source": [
    "print_stats(df_male_teacher_describe, df_female_teacher_describe, 'AGEP')"
   ]
  },
  {
   "cell_type": "code",
   "execution_count": 23,
   "id": "f3e62bab",
   "metadata": {},
   "outputs": [
    {
     "data": {
      "text/plain": [
       "Text(0.5, 1.0, 'Age Distribution is Similar')"
      ]
     },
     "execution_count": 23,
     "metadata": {},
     "output_type": "execute_result"
    },
    {
     "data": {
      "image/png": "[encoded data removed]",
      "text/plain": [
       "<Figure size 432x288 with 1 Axes>"
      ]
     },
     "metadata": {},
     "output_type": "display_data"
    }
   ],
   "source": [
    "ax = sns.kdeplot(data=df.query(f'OCCP == {OCCP_ID}'),\n",
    "                 x='AGEP',\n",
    "                 hue='SEX',\n",
    "                 shade=True,\n",
    "                 common_norm=False,\n",
    "                 palette='inferno_r',\n",
    "                 linewidth=2,\n",
    "                 alpha=0.3,\n",
    "                );\n",
    "ax.set_xlabel('Age')\n",
    "ax.set_title('Age Distribution is Similar', fontsize=18)"
   ]
  },
  {
   "cell_type": "markdown",
   "id": "35c5e753",
   "metadata": {},
   "source": [
    "#### Hours Worked per Week\n",
    "For elementary and middle school teachers, on average, males worked 4.2% more hours than females. "
   ]
  },
  {
   "cell_type": "code",
   "execution_count": 24,
   "id": "ba6341b1",
   "metadata": {},
   "outputs": [
    {
     "name": "stdout",
     "output_type": "stream",
     "text": [
      "Males worked 4.2% more hours than females (using mean)\n"
     ]
    }
   ],
   "source": [
    "male_hrs = df_male_teacher_describe.loc['mean']['WKHP']\n",
    "female_hrs = df_female_teacher_describe.loc['mean']['WKHP']\n",
    "print(f'Males worked {(male_hrs/female_hrs-1)*100:.1f}% more hours than females (using mean)')"
   ]
  },
  {
   "cell_type": "code",
   "execution_count": 25,
   "id": "7fb47580",
   "metadata": {},
   "outputs": [
    {
     "name": "stdout",
     "output_type": "stream",
     "text": [
      "\tMale\t\t Females\n",
      "Min:\t1.0\t\t 1.0\n",
      "25%:\t40.0\t\t 38.0\n",
      "50%:\t40.0\t\t 40.0\n",
      "Mean:\t40.8\t\t 39.1\n",
      "75%:\t46.0\t\t 45.0\n",
      "Max:\t99.0\t\t 99.0\n"
     ]
    }
   ],
   "source": [
    "print_stats(df_male_teacher_describe, df_female_teacher_describe, 'WKHP')"
   ]
  },
  {
   "cell_type": "code",
   "execution_count": 26,
   "id": "f48f316d",
   "metadata": {},
   "outputs": [
    {
     "data": {
      "text/plain": [
       "Text(0.5, 1.0, 'Hours Worked is Similar')"
      ]
     },
     "execution_count": 26,
     "metadata": {},
     "output_type": "execute_result"
    },
    {
     "data": {
      "image/png": "[encoded data removed]",
      "text/plain": [
       "<Figure size 432x288 with 1 Axes>"
      ]
     },
     "metadata": {},
     "output_type": "display_data"
    }
   ],
   "source": [
    "ax = sns.kdeplot(data=df.query(f'OCCP == {OCCP_ID}'),\n",
    "                 x='WKHP',\n",
    "                 hue='SEX',\n",
    "                 shade=True,\n",
    "                 common_norm=False,\n",
    "                 palette='inferno_r',\n",
    "                 linewidth=2,\n",
    "                 alpha=0.3,\n",
    "                );\n",
    "ax.set_xlabel('Hours Worked per Week');\n",
    "ax.set_title('Hours Worked is Similar', fontsize=18)"
   ]
  },
  {
   "cell_type": "markdown",
   "id": "4c69c9a3",
   "metadata": {},
   "source": [
    "#### Education\n",
    "- the education levels are very similar between these two groups.\n",
    "\n",
    "Use US Census data dictionary to find the codes: https://www2.census.gov/programs-surveys/acs/tech_docs/pums/data_dict/PUMS_Data_Dictionary_2018.pdf\n",
    "\n",
    "Codes are sorted so that lower numbers correspond to lower education levels and higher numbers correspond to higher education levels. For example: \n",
    "- 20: Associate's degree\n",
    "- 21: Bachelors degree\n",
    "- 22: Master's degree\n",
    "- 23: Professional degree beyon a Bachelor's degree\n",
    "- 24: Doctorate degree"
   ]
  },
  {
   "cell_type": "code",
   "execution_count": 27,
   "id": "063d5c69",
   "metadata": {},
   "outputs": [
    {
     "name": "stdout",
     "output_type": "stream",
     "text": [
      "\tMale\t\t Females\n",
      "Min:\t15.0\t\t 18.0\n",
      "25%:\t21.0\t\t 21.0\n",
      "50%:\t22.0\t\t 22.0\n",
      "Mean:\t21.5\t\t 21.4\n",
      "75%:\t22.0\t\t 22.0\n",
      "Max:\t24.0\t\t 24.0\n"
     ]
    }
   ],
   "source": [
    "print_stats(df_male_teacher_describe, df_female_teacher_describe, 'SCHL')"
   ]
  },
  {
   "cell_type": "code",
   "execution_count": 28,
   "id": "9d40318f",
   "metadata": {},
   "outputs": [
    {
     "data": {
      "text/plain": [
       "Text(0.5, 1.0, 'Education Level is Similar')"
      ]
     },
     "execution_count": 28,
     "metadata": {},
     "output_type": "execute_result"
    },
    {
     "data": {
      "image/png": "[encoded data removed]",
      "text/plain": [
       "<Figure size 432x288 with 1 Axes>"
      ]
     },
     "metadata": {},
     "output_type": "display_data"
    }
   ],
   "source": [
    "ax = sns.kdeplot(data=df.query(f'OCCP == {OCCP_ID}'),\n",
    "                 x='SCHL',\n",
    "                 hue='SEX',\n",
    "                 shade=True,\n",
    "                 common_norm=False,\n",
    "                 palette='inferno_r',\n",
    "                 linewidth=2,\n",
    "                 alpha=0.3,\n",
    "                 legend=True,\n",
    "                );\n",
    "ax.set_xlabel('Education Level');\n",
    "sns.move_legend(ax, \"upper left\")\n",
    "ax.set_title('Education Level is Similar', fontsize=18)"
   ]
  },
  {
   "cell_type": "markdown",
   "id": "5efc15e4",
   "metadata": {},
   "source": [
    "#### Salary "
   ]
  },
  {
   "cell_type": "code",
   "execution_count": 29,
   "id": "dfe52f66",
   "metadata": {
    "scrolled": true
   },
   "outputs": [
    {
     "name": "stdout",
     "output_type": "stream",
     "text": [
      "\tMale\t\t Females\n",
      "Min:\t150.0\t\t 110.0\n",
      "25%:\t40000.0\t\t 32000.0\n",
      "50%:\t55000.0\t\t 48000.0\n",
      "Mean:\t58444.5\t\t 49585.3\n",
      "75%:\t72000.0\t\t 63000.0\n",
      "Max:\t543000.0\t\t 660000.0\n"
     ]
    }
   ],
   "source": [
    "print_stats(df_male_teacher_describe, df_female_teacher_describe, 'PINCP')"
   ]
  },
  {
   "cell_type": "code",
   "execution_count": 30,
   "id": "1ca163c2",
   "metadata": {},
   "outputs": [
    {
     "name": "stdout",
     "output_type": "stream",
     "text": [
      "When holding occupation constant (teachers) Males earned 17.9% more than females (using mean)\n"
     ]
    }
   ],
   "source": [
    "male_income = df_male_teacher_describe.loc['mean']['PINCP']\n",
    "female_income = df_female_teacher_describe.loc['mean']['PINCP']\n",
    "print(f'When holding occupation constant (teachers) '\n",
    "      f'Males earned {(male_income/female_income-1)*100:.1f}% more than females (using mean)')"
   ]
  },
  {
   "cell_type": "code",
   "execution_count": 31,
   "id": "92dc8eea",
   "metadata": {},
   "outputs": [
    {
     "name": "stdout",
     "output_type": "stream",
     "text": [
      "When holding occupation constant (teachers) Males earned 14.6% more than females (using median)\n"
     ]
    }
   ],
   "source": [
    "male_income = df_male_teacher_describe.loc['50%']['PINCP']\n",
    "female_income = df_female_teacher_describe.loc['50%']['PINCP']\n",
    "print(f'When holding occupation constant (teachers) '\n",
    "      f'Males earned {(male_income/female_income-1)*100:.1f}% more than females (using median)')"
   ]
  },
  {
   "cell_type": "code",
   "execution_count": 32,
   "id": "14e1b03c",
   "metadata": {},
   "outputs": [
    {
     "data": {
      "image/png": "[encoded data removed]",
      "text/plain": [
       "<Figure size 432x288 with 1 Axes>"
      ]
     },
     "metadata": {},
     "output_type": "display_data"
    }
   ],
   "source": [
    "sns.set_style('whitegrid', {'axes.edgecolor': '.2'}) # {\"grid.color\": \"0.2\"})\n",
    "sns.set_context('notebook', font_scale=1.4)\n",
    "ax = sns.kdeplot(data=df[df.OCCP == OCCP_ID],\n",
    "                 x='PINCP',\n",
    "                 hue='SEX',\n",
    "                 shade=True,\n",
    "                 common_norm=False,\n",
    "                 palette='inferno_r',\n",
    "                 linewidth=2,\n",
    "                 alpha=0.3,\n",
    "                );\n",
    "ax.set_xlim([-1e4, 1.6e5])\n",
    "ax.set_xlabel('Annual Income')\n",
    "ax.set_title('   Males earn more than females'.title(), fontsize=18)\n",
    "ax.xaxis.set_major_formatter(mpl.ticker.StrMethodFormatter('{x:,.0f}'));\n",
    "plt.xticks(rotation=30);"
   ]
  }
 ],
 "metadata": {
  "kernelspec": {
   "display_name": "Python 3 (ipykernel)",
   "language": "python",
   "name": "python3"
  },
  "language_info": {
   "codemirror_mode": {
    "name": "ipython",
    "version": 3
   },
   "file_extension": ".py",
   "mimetype": "text/x-python",
   "name": "python",
   "nbconvert_exporter": "python",
   "pygments_lexer": "ipython3",
   "version": "3.8.12"
  }
 },
 "nbformat": 4,
 "nbformat_minor": 5
}
